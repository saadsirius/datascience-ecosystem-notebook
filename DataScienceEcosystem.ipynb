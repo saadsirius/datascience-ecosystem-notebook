{
 "cells": [
  {
   "cell_type": "markdown",
   "id": "04865010",
   "metadata": {},
   "source": [
    "# Data Science Tools and Ecosystem"
   ]
  },
  {
   "cell_type": "markdown",
   "id": "91d68e93",
   "metadata": {},
   "source": [
    "In this notebook, Data Science Tools and Ecosystem are summarized."
   ]
  },
  {
   "cell_type": "markdown",
   "id": "71ebfc35",
   "metadata": {},
   "source": [
    "Some of the popular languages that Data Scientists use are:\n",
    "1. Python  \n",
    "2. R  \n",
    "3. SQL"
   ]
  },
  {
   "cell_type": "markdown",
   "id": "a77d7023",
   "metadata": {},
   "source": [
    "Some of the commonly used libraries used by Data Scientists include:\n",
    "1. Pandas  \n",
    "2. NumPy  \n",
    "3. Scikit-learn"
   ]
  },
  {
   "cell_type": "markdown",
   "id": "9cc7740d",
   "metadata": {},
   "source": [
    "| Data Science Tools |\n",
    "|--------------------|\n",
    "| Jupyter Notebook   |\n",
    "| RStudio            |\n",
    "| VS Code            |"
   ]
  },
  {
   "cell_type": "markdown",
   "id": "cccb59fc",
   "metadata": {},
   "source": [
    "### Below are a few examples of evaluating arithmetic expressions in Python."
   ]
  },
  {
   "cell_type": "code",
   "execution_count": null,
   "id": "b2219d4e",
   "metadata": {},
   "outputs": [],
   "source": [
    "# This a simple arithmetic expression to multiply then add integers\n",
    "(3*4)+5"
   ]
  },
  {
   "cell_type": "code",
   "execution_count": null,
   "id": "442a30d6",
   "metadata": {},
   "outputs": [],
   "source": [
    "# This will convert 200 minutes to hours by dividing by 60\n",
    "200 / 60"
   ]
  },
  {
   "cell_type": "markdown",
   "id": "98c51fbd",
   "metadata": {},
   "source": [
    "**Objectives:**\n",
    "- List popular languages for Data Science  \n",
    "- List commonly used libraries for Data Science  \n",
    "- Create tables and markdowns in Jupyter Notebooks  \n",
    "- Perform basic arithmetic operations in Python  \n",
    "- Share notebooks via GitHub"
   ]
  },
  {
   "cell_type": "markdown",
   "id": "e013e8e8",
   "metadata": {},
   "source": [
    "## Author\n",
    "Saad Lamkadam"
   ]
  }
 ],
 "metadata": {},
 "nbformat": 4,
 "nbformat_minor": 5
}